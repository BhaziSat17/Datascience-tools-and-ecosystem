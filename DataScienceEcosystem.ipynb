{
 "cells": [
  {
   "cell_type": "markdown",
   "metadata": {},
   "source": [
    "<center>\n",
    "    <img src=\"https://cf-courses-data.s3.us.cloud-object-storage.appdomain.cloud/IBMDeveloperSkillsNetwork-DS0105EN-SkillsNetwork/labs/Module2/images/SN_web_lightmode.png\" width=\"300\" alt=\"cognitiveclass.ai logo\">\n",
    "</center>\n"
   ]
  },
  {
   "cell_type": "markdown",
   "metadata": {},
   "source": [
    "#### Add your code below following the instructions given in the course\n"
   ]
  },
  {
   "cell_type": "markdown",
   "metadata": {
    "tags": []
   },
   "source": [
    "Create a Markdown cell with title of the notebook\n",
    "# Data Science Tools and System #"
   ]
  },
  {
   "cell_type": "markdown",
   "metadata": {},
   "source": [
    "Create a Markdown cell for an introduction \n",
    "### In this Notebook, dats science Tools and ecosystem are summarized \n",
    "    The data science ecosystem encompasses a vast array of tools and technologies that empower data scientists to explore, analyze, and derive insights from data. From data collection to visualization and deployment, these tools form a comprehensive toolkit that facilitates every stage of the data science workflow.\n",
    "\n",
    "    We learned the usage of various Data science tools and its exact purpose in Data analysis .Also we were able to identify the tools as per their purpose.Such as Tensor flow Tool for visualization , like same we studied various tool purposes.\n",
    "    \n",
    "    The data science ecosystem comprises a diverse and interconnected network of tools and technologies that empower data scientists to tackle complex problems, extract valuable insights from data, and drive innovation across industries. By leveraging this ecosystem effectively, data scientists can unlock the full potential of data to inform decision-making, solve challenges, and create positive impact in the world.\n",
    "\n",
    "\n",
    "\n",
    "\n",
    "\n",
    "\n",
    "\n"
   ]
  },
  {
   "cell_type": "markdown",
   "metadata": {},
   "source": [
    "Insert a markdown cell to list objectives\n",
    "**Objectives:**\n",
    "* Overveiw of data science\n",
    "* Languages of Data science like Python, Java , SQL Etc.,\n",
    "* JuypterArchitecture\n",
    "* R Studio and Git Hub\n",
    "* learned about packages and dataset  models "
   ]
  },
  {
   "cell_type": "markdown",
   "metadata": {},
   "source": [
    "Create a markdown cell to list data science languages\n",
    "### Some of the popular languages that data Scientist use are:\n",
    "1. Python\n",
    "2. R studio\n",
    "3. SQL\n",
    "4. Java"
   ]
  },
  {
   "cell_type": "markdown",
   "metadata": {},
   "source": [
    "Create a markdown cell to list data science Libraries\n",
    "### Some of the commonly used Libraries used by data scientist are:\n",
    "1. Pandas\n",
    "2. Pytorch\n",
    "3. Scipy\n",
    "4. Numpy\n",
    "\n"
   ]
  },
  {
   "cell_type": "markdown",
   "metadata": {},
   "source": [
    " Create a markdowncell with a table of data science tools\n",
    " | Data Science Tools|\n",
    " |-------------------|\n",
    " |MySQL|\n",
    " |PostgreSQL|\n",
    " |GIT|\n",
    " |Spark|"
   ]
  },
  {
   "cell_type": "markdown",
   "metadata": {
    "tags": []
   },
   "source": [
    "Create a markdown  cell introducing arithmetic expression examples\n",
    "### Below are few examples of evaluating arithmetic expressions in python\n",
    "\n",
    "1. Add = a+b\n",
    "2. Subtract=a-b\n",
    "3. Multiply=a*b\n",
    "4. Division=a/b"
   ]
  },
  {
   "cell_type": "markdown",
   "metadata": {
    "tags": []
   },
   "source": [
    "create a code cell to multipy anf add numbers\n",
    "### This simple arithmetic experssion is to multiply and add interger"
   ]
  },
  {
   "cell_type": "code",
   "execution_count": 5,
   "metadata": {
    "tags": []
   },
   "outputs": [
    {
     "data": {
      "text/plain": [
       "17"
      ]
     },
     "execution_count": 5,
     "metadata": {},
     "output_type": "execute_result"
    }
   ],
   "source": [
    "(3*4)+5\n"
   ]
  },
  {
   "cell_type": "markdown",
   "metadata": {},
   "source": [
    "Create a  code cell to convert minutes to hours\n",
    "### This will convert 200 minutes to hours by dividing 60\n",
    "\n"
   ]
  },
  {
   "cell_type": "code",
   "execution_count": 6,
   "metadata": {
    "tags": []
   },
   "outputs": [
    {
     "data": {
      "text/plain": [
       "3.3333333333333335"
      ]
     },
     "execution_count": 6,
     "metadata": {},
     "output_type": "execute_result"
    }
   ],
   "source": [
    "200/60\n"
   ]
  },
  {
   "cell_type": "markdown",
   "metadata": {},
   "source": [
    "Create a markdowncell to  indicate the Author's Name\n",
    "##  Author\n",
    "## Bhaziria Jaheer Hussain\n"
   ]
  },
  {
   "cell_type": "code",
   "execution_count": null,
   "metadata": {},
   "outputs": [],
   "source": []
  }
 ],
 "metadata": {
  "kernelspec": {
   "display_name": "Python",
   "language": "python",
   "name": "conda-env-python-py"
  },
  "language_info": {
   "codemirror_mode": {
    "name": "ipython",
    "version": 3
   },
   "file_extension": ".py",
   "mimetype": "text/x-python",
   "name": "python",
   "nbconvert_exporter": "python",
   "pygments_lexer": "ipython3",
   "version": "3.7.12"
  }
 },
 "nbformat": 4,
 "nbformat_minor": 4
}
